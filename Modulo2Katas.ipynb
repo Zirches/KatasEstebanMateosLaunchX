{
 "cells": [
  {
   "cell_type": "markdown",
   "metadata": {},
   "source": [
    "# Ejercicio - Crear un paquete\n",
    "\n",
    "En este ejercicio, aprenderás a utilizar entornos virtuales como una forma para no afectar a los paquetes instalados globalmente u otros programas que se \n",
    "\n",
    "ejecutan en tu máquina.\n",
    "\n",
    "*Para este ejercicio es necesario que lo ejecutes desde la terminal, línea de comandos, cmd, consola, cli, etc. de tu computadora, sé que es desafíante, \n",
    "\n",
    "pero no te preocupes ¡¡Sé que puedes lograrlo!!*\n",
    "\n",
    "## Crear un entorno virtual\n",
    "\n",
    "Crea un entorno virtual mediante ``venv``\n",
    "\n",
    "* Ejecutar en su terminal: ``python3 -m venv env`` o bien ``python -m venv env``\n",
    "\n",
    "    ```\n",
    "       python3 -m venv env \n",
    "    ```\n",
    "    ``\n",
    "    python -m venv env\n",
    "    ``\n",
    "    Ahora tienes un directorio (folder) ``env`` creado en tu terminal.\n",
    "\n",
    "\n"
   ]
  },
  {
   "cell_type": "markdown",
   "metadata": {},
   "source": [
    "C:\\Users\\Esteban Mateos\\Desktop\\EntornoVirtual>python3 -m venv env\n",
    "\n",
    "C:\\Users\\Esteban Mateos\\Desktop\\EntornoVirtual>cd env\n",
    "\n",
    "C:\\Users\\Esteban Mateos\\Desktop\\EntornoVirtual\\env>dir\n",
    " \n",
    " El volumen de la unidad C no tiene etiqueta.\n",
    " \n",
    " El número de serie del volumen es: 945A-0369\n",
    "\n",
    " Directorio de C:\\Users\\Esteban Mateos\\Desktop\\EntornoVirtual\\env\n",
    "\n",
    "16/02/2022  16:31    DIR          .\n",
    "\n",
    "16/02/2022  16:31    DIR          ..\n",
    "\n",
    "16/02/2022  16:31    DIR          Include\n",
    "\n",
    "16/02/2022  16:31    DIR          Lib\n",
    "\n",
    "16/02/2022  16:31               175 pyvenv.cfg\n",
    "\n",
    "16/02/2022  16:31    DIR          Scripts\n",
    "               1 archivos            175 bytes\n",
    "               5 dirs  80,648,044,544 bytes libres\n"
   ]
  },
  {
   "cell_type": "markdown",
   "metadata": {},
   "source": [
    "Ejecuta el comando para activar el entorno virtual: ``source env/bin/activate``\n",
    "\n",
    "    ```\n",
    "    source env/bin/activate\n",
    "    # Windows\n",
    "    env\\bin\\activate\n",
    "    \n",
    "    o bien: \n",
    "    env\\Scripts\\activate\n",
    "\n",
    "    # Linux, WSL or macOS\n",
    "    source env/bin/activate\n",
    "    ```\n",
    "\n",
    "Ahora ves en tu terminal ``(env)``. Eso significa que has activado tu entorno virtual y se ha aislado del resto de tu máquina."
   ]
  },
  {
   "cell_type": "markdown",
   "metadata": {},
   "source": [
    "C:\\Users\\Esteban Mateos\\Desktop\\EntornoVirtual\\env>cd Scripts\n",
    "\n",
    "C:\\Users\\Esteban Mateos\\Desktop\\EntornoVirtual\\env\\Scripts>\n",
    "\n",
    "(env) C:\\Users\\Esteban Mateos\\Desktop\\EntornoVirtual\\env\\Scripts>"
   ]
  },
  {
   "cell_type": "markdown",
   "metadata": {},
   "source": [
    "## Instalar una biblioteca\n",
    "\n",
    "Ahora que estás dentro de tu entorno virtual, puedes instalar una biblioteca y saber que la biblioteca solo existirá en el entorno virtual.\n",
    "\n",
    "* Ejecuta el comando ``pip freeze`` para ver las bibliotecas instaladas en tu entorno:\n",
    "\n",
    "    ```\n",
    "    pip freeze\n",
    "    ```\n",
    "\n",
    "    No deberías obtener respuesta. A continuación, veamos cómo cambia la salida de ``pip freeze`` cuando se agrega una biblioteca (un paquete).\n",
    "\n",
    "* Ejecuta el comando ``pip install`` para instalar una biblioteca:\n",
    "   ```\n",
    "   pip install python-dateutil\n",
    "   ```\n",
    "* Un gran mensaje de salida de texto dice que está instalando tu biblioteca, y debe terminar con la siguiente oración:\n",
    "\n",
    "    ```\n",
    "    Successfully installed python-dateutil-2.8.2 six-1.16.0\n",
    "    ```\n",
    "* Vuelve a ejecutar ```pip freeze``` para ver cómo ha cambiado tu lista de bibliotecas:\n",
    "    ```\n",
    "    pip freeze\n",
    "    ```\n",
    "* Ahora deberías ver la siguiente lista:\n",
    "    ```\n",
    "    python-dateutil==2.8.2\n",
    "    six==1.16.0\n",
    "    ```"
   ]
  },
  {
   "cell_type": "markdown",
   "metadata": {},
   "source": [
    "(env) C:\\Users\\Esteban Mateos\\Desktop\\EntornoVirtual\\env\\Scripts>pip install python-dateutil\n",
    "\n",
    "Collecting python-dateutil\n",
    "  \n",
    "  Using cached python_dateutil-2.8.2-py2.py3-none-any.whl (247 kB)\n",
    "\n",
    "Collecting six>=1.5\n",
    " \n",
    "  Using cached six-1.16.0-py2.py3-none-any.whl (11 kB)\n",
    "\n",
    "Installing collected packages: six, python-dateutil\n",
    "\n",
    "Successfully installed python-dateutil-2.8.2 six-1.16.0\n",
    "\n",
    "WARNING: You are using pip version 21.2.4; however, version 22.0.3 is available.\n",
    "\n",
    "You should consider upgrading via the 'C:\\Users\\Esteban Mateos\\Desktop\\EntornoVirtual\\env\\Scripts\\python.exe -m pip install --upgrade pip' command.\n",
    "\n",
    "(env) C:\\Users\\Esteban Mateos\\Desktop\\EntornoVirtual\\env\\Scripts>pip freeze\n",
    "\n",
    "python-dateutil==2.8.2\n",
    "\n",
    "six==1.16.0"
   ]
  },
  {
   "cell_type": "markdown",
   "metadata": {},
   "source": [
    "### Desactivar un entorno virtual\n",
    "\n",
    "Hasta ahora, has creado un entorno virtual y le has agregado un paquete. Sin embargo, es posible que estés trabajando en varios proyectos de Python y necesites cambiar entre ellos. Para hacer eso, debes salir (desactivar) tu entorno virtual.\n",
    "\n",
    "Ejecuta el comando ``deactivate``:\n",
    "```\n",
    "deactivate\n",
    "```\n",
    "\n",
    "Observa cómo cambia el mensaje de tu terminal ``(env)`` a cómo se veía antes.\n",
    "\n",
    "¡Felicidades! Has logrado crear y usar correctamente un entorno virtual."
   ]
  },
  {
   "cell_type": "markdown",
   "metadata": {},
   "source": [
    "(env) C:\\Users\\Esteban Mateos\\Desktop\\EntornoVirtual\\env\\Scripts>deactivate\n",
    "\n",
    "C:\\Users\\Esteban Mateos\\Desktop\\EntornoVirtual\\env\\Scripts>pip freeze\n",
    "\n",
    "six==1.16.0"
   ]
  },
  {
   "cell_type": "markdown",
   "metadata": {},
   "source": [
    "Curso Propedútico de Python para Launch X - Innovacción Virtual.\n",
    "\n",
    "Material desarrollado con base en los contenidos de MSLearn y la metáfora de LaunchX, traducción e implementación por: Fernanda Ochoa - Learning Producer de LaunchX.\n",
    "\n",
    "Redes:\n",
    "* GitHub: [FernandaOchoa](https://github.com/FernandaOchoa)\n",
    "* Twitter: [@imonsh](https://twitter.com/imonsh)\n",
    "* Instagram: [fherz8a](https://www.instagram.com/fherz8a/)\n"
   ]
  }
 ],
 "metadata": {
  "language_info": {
   "name": "python"
  },
  "orig_nbformat": 4
 },
 "nbformat": 4,
 "nbformat_minor": 2
}
