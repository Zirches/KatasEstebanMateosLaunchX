{
  "cells": [
    {
      "cell_type": "markdown",
      "metadata": {},
      "source": [
        "# Ejercicio: Uso de funciones en Python"
      ]
    },
    {
      "cell_type": "markdown",
      "metadata": {},
      "source": [
        "### Ejercicio 1: Trabajar con argumentos en funciones\n",
        "\n",
        "Los argumentos requeridos en las funciones se utilizan cuando las funciones necesitan que esos argumentos funcionen correctamente. En este ejercicio, construirás un informe de combustible que requiere información de varias ubicaciones de combustible en todo el cohete.\n",
        "\n"
      ]
    },
    {
      "cell_type": "markdown",
      "metadata": {},
      "source": [
        "> **TIP**\n",
        "> Dedica unos minutos para tratar de encontrar una solución. Luego desplázate hacia abajo hasta la parte inferior para ver si has logrado compilar el programa de acuerdo con las especificaciones\n",
        "\n",
        "Comienza por crear una función que necesite tres lecturas de combustible y devuelva un informe:"
      ]
    },
    {
      "cell_type": "code",
      "execution_count": 10,
      "metadata": {},
      "outputs": [],
      "source": [
        "# Función para leer 3 tanques de combustible y muestre el promedio\n",
        "def combustible(tanque_externo,tanque_oxigeno,tanque_interno):\n",
        "    promedio_total = (tanque_externo+tanque_oxigeno+tanque_interno) /3\n",
        "    return f'''reporte de combustible\n",
        "    Promedio_total = {promedio_total}%\n",
        "    Tanque externo = {tanque_externo}%\n",
        "    Tanque de oxigeno = {tanque_oxigeno}%\n",
        "    Tanque interno = {tanque_interno}%\n",
        "    '''"
      ]
    },
    {
      "cell_type": "markdown",
      "metadata": {},
      "source": [
        "Ahora que hemos definido la función de informes, vamos a comprobarlo. Para esta misión, los tanques no están llenos:"
      ]
    },
    {
      "cell_type": "code",
      "execution_count": 11,
      "metadata": {},
      "outputs": [
        {
          "name": "stdout",
          "output_type": "stream",
          "text": [
            "reporte de combustible\n",
            "    Promedio_total = 78.0%\n",
            "    Tanque externo = 75%\n",
            "    Tanque de oxigeno = 78%\n",
            "    Tanque interno = 81%\n",
            "    \n"
          ]
        }
      ],
      "source": [
        "\n",
        "# Llamamos a la función que genera el reporte print(funcion(tanque1, tanque2, tanque3))\n",
        "print(combustible(75, 78, 81))"
      ]
    },
    {
      "cell_type": "markdown",
      "metadata": {},
      "source": [
        "En lugar de simplemente crear el informe, la función también está calculando el promedio. Mejora la legibilidad extrayendo el cálculo promedio de la función en una nueva función para que el promedio se pueda hacer de forma independiente:"
      ]
    },
    {
      "cell_type": "code",
      "execution_count": 19,
      "metadata": {},
      "outputs": [
        {
          "data": {
            "text/plain": [
              "74.66666666666667"
            ]
          },
          "execution_count": 19,
          "metadata": {},
          "output_type": "execute_result"
        }
      ],
      "source": [
        "# Función promedio\n",
        "def promedio(valores):\n",
        "    total = sum(valores)\n",
        "    cantidad = len(valores)\n",
        "    return total / cantidad\n",
        "\n",
        "promedio([72,87,65])"
      ]
    },
    {
      "cell_type": "markdown",
      "metadata": {},
      "source": [
        "Ahora actualiza la función de informes para llamando a la nueva función del promedio:\n"
      ]
    },
    {
      "cell_type": "code",
      "execution_count": 24,
      "metadata": {},
      "outputs": [
        {
          "name": "stdout",
          "output_type": "stream",
          "text": [
            "reporte de combustible\n",
            "    Promedio_total = 73.66666666666667%\n",
            "    Tanque externo = 78%\n",
            "    Tanque de oxigeno = 54%\n",
            "    Tanque interno = 89%\n",
            "    \n"
          ]
        }
      ],
      "source": [
        "# Actualiza la función\n",
        "def reporte_combustible(tanque_externo,tanque_oxigeno,tanque_interno):\n",
        "    promedio_total = (tanque_externo+tanque_oxigeno+tanque_interno) /3\n",
        "    return f'''reporte de combustible\n",
        "    Promedio_total = {promedio([tanque_externo,tanque_oxigeno,tanque_interno])}%\n",
        "    Tanque externo = {tanque_externo}%\n",
        "    Tanque de oxigeno = {tanque_oxigeno}%\n",
        "    Tanque interno = {tanque_interno}%\n",
        "    '''\n",
        "\n",
        "print(reporte_combustible(78, 54, 89))"
      ]
    },
    {
      "cell_type": "markdown",
      "metadata": {},
      "source": [
        "> Recuerda: Lo importante es intentarlo, puedes auxiliarte de internet, libros, etc. El objetivo de una kata es la comprobación de la comprensión de la lección y su aplicación inmediata a la resolución de problemas. Go for it!"
      ]
    },
    {
      "cell_type": "markdown",
      "metadata": {},
      "source": [
        "## Ejercicio 2: Trabajo con argumentos de palabra clave"
      ]
    },
    {
      "cell_type": "markdown",
      "metadata": {},
      "source": [
        "### Ejercicio : Trabajar con argumentos de palabras clave en funciones\n",
        "En este ejercicio, construirás un informe de cohete que requiere varias piezas de información, como el tiempo hasta el destino, el combustible a la izquierda y el nombre del destino. Comienza por crear una función que creará un informe preciso de la misión:"
      ]
    },
    {
      "cell_type": "code",
      "execution_count": 26,
      "metadata": {},
      "outputs": [
        {
          "name": "stdout",
          "output_type": "stream",
          "text": [
            "Reporte completo\n",
            "    Hora de prelanzamineto = 12 horas\n",
            "    Tiempo de vuelo = 6 horas\n",
            "    Destino = saturn\n",
            "    Tanque externo = 87%\n",
            "    Tanque interno = 78%\n",
            "    \n"
          ]
        }
      ],
      "source": [
        "# Función con un informe preciso de la misión. Considera hora de prelanzamiento, tiempo de vuelo, destino, tanque externo y tanque interno\n",
        "\n",
        "def informe(hora_prelanzamiento,tiempo_vuelo,destino,tanque_externo,tanque_interno):\n",
        "    return f'''Reporte completo\n",
        "    Hora de prelanzamineto = {hora_prelanzamiento} horas\n",
        "    Tiempo de vuelo = {tiempo_vuelo} horas\n",
        "    Destino = {destino}\n",
        "    Tanque externo = {tanque_externo}%\n",
        "    Tanque interno = {tanque_interno}%\n",
        "    '''\n",
        "\n",
        "print(informe(12, 6, 'saturn', 87, 78))"
      ]
    },
    {
      "cell_type": "markdown",
      "metadata": {},
      "source": [
        "La función es problemática porque no se puede adaptar para minutos adicionales o tanques adicionales de combustible. Hazlo más flexible permitiendo cualquier número de pasos basados en el tiempo y cualquier número de tanques. En lugar de usar `*args` y `**kwargs`, aprovecha el hecho de que puedes usar cualquier nombre que desees. Asegurate que la función sea más legible mediante el uso de nombres de variables que están asociados con las entradas, como `*minutes` y `**fuel_reservoirs`:"
      ]
    },
    {
      "cell_type": "code",
      "execution_count": 31,
      "metadata": {},
      "outputs": [
        {
          "name": "stdout",
          "output_type": "stream",
          "text": [
            "Reporte completo\n",
            "    Destino = Moon\n",
            "    total minutos = 62 minutos\n",
            "    total combustible = 134%\n",
            "    \n"
          ]
        }
      ],
      "source": [
        "# Escribe tu nueva función de reporte considerando lo anterior\n",
        "def informe_detallado(destino, *minutes,**fuel_reservoirs):\n",
        "    return f'''Reporte completo\n",
        "    Destino = {destino}\n",
        "    total minutos = {sum(minutes)} minutos\n",
        "    total combustible = {sum(fuel_reservoirs.values())}%\n",
        "    '''\n",
        "\n",
        "print(informe_detallado('Moon',5, 6, 51, tanque_externo= 56, tanque_interno=78))\n"
      ]
    },
    {
      "cell_type": "markdown",
      "metadata": {},
      "source": [
        "Debido a que el combustible que queda en los tanques es específico de cada tanque, actualiza la función para usar el nombre de cada tanque en el informe:"
      ]
    },
    {
      "cell_type": "code",
      "execution_count": 30,
      "metadata": {},
      "outputs": [
        {
          "name": "stdout",
          "output_type": "stream",
          "text": [
            "\n",
            "    Destino = luna\n",
            "    total minutos = 62 minutos\n",
            "    total combustible = 100\n",
            "    Tanque externo contiene 56 litros\n",
            "Tanque interno contiene 44 litros\n",
            "\n"
          ]
        }
      ],
      "source": [
        "# Escribe tu nueva función\n",
        "\n",
        "def informe_detallado(destino, *minutes, **fuel_reservoirs):\n",
        "    reporte = f\"\"\"\n",
        "    Destino = {destino}\n",
        "    total minutos = {sum(minutes)} minutos\n",
        "    total combustible = {sum(fuel_reservoirs.values())}\n",
        "    \"\"\"\n",
        "    for nombre_tanque, litros in fuel_reservoirs.items():\n",
        "        reporte += f\"Tanque {nombre_tanque} contiene {litros} litros\\n\"\n",
        "    return reporte\n",
        "            \n",
        "print(informe_detallado(\"luna\", 5, 6, 51, externo=56, interno=44))"
      ]
    },
    {
      "cell_type": "markdown",
      "metadata": {},
      "source": [
        "---\n",
        "\n",
        "Curso Propedútico de Python para Launch X - Innovacción Virtual.\n",
        "\n",
        "Material desarrollado con base en los contenidos de MSLearn y la metáfora de LaunchX, traducción e implementación por: Fernanda Ochoa - Learning Producer de LaunchX.\n",
        "\n",
        "Redes:\n",
        "* GitHub: [FernandaOchoa](https://github.com/FernandaOchoa)\n",
        "* Twitter: [@imonsh](https://twitter.com/imonsh)\n",
        "* Instagram: [fherz8a](https://www.instagram.com/fherz8a/)"
      ]
    }
  ],
  "metadata": {
    "interpreter": {
      "hash": "205095b8b86ea82a021a8fc2ffba2b3bc9f8d0be25999901963b225939f75778"
    },
    "kernelspec": {
      "display_name": "Python 3.8.10 64-bit ('tmp': conda)",
      "name": "python3"
    },
    "language_info": {
      "codemirror_mode": {
        "name": "ipython",
        "version": 3
      },
      "file_extension": ".py",
      "mimetype": "text/x-python",
      "name": "python",
      "nbconvert_exporter": "python",
      "pygments_lexer": "ipython3",
      "version": "3.10.2"
    },
    "nteract": {
      "version": "nteract-front-end@1.0.0"
    },
    "orig_nbformat": 4
  },
  "nbformat": 4,
  "nbformat_minor": 2
}
