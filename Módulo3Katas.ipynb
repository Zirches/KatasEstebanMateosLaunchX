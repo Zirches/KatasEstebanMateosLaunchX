{
 "cells": [
  {
   "cell_type": "markdown",
   "metadata": {},
   "source": [
    "Ejercicio - Escribir declaraciones if, else, y elif\n",
    "Las instrucciones If te permiten ejecutar condicionalmente código Python. Se usan comúnmente en Python para \"tomar decisiones\" sobre lo que debería suceder a continuación mientras se ejecuta un programa.\n",
    "\n",
    "Para crear una instrucción if en Python, define una expresión de prueba que pueda tener un valor True o False, seguido de un bloque de código con sangría que se ejecutará si se cumple la condición.\n",
    "\n",
    "if expresion_prueba:\n",
    "    # intrucción(es) a ejecutar"
   ]
  },
  {
   "cell_type": "code",
   "execution_count": 2,
   "metadata": {},
   "outputs": [
    {
     "name": "stdout",
     "output_type": "stream",
     "text": [
      "Numero A es menor a numero B\n"
     ]
    }
   ],
   "source": [
    "numberA = 21\n",
    "numberB = 43\n",
    "\n",
    "if numberA < numberB:\n",
    "    print('Numero A es menor a numero B')"
   ]
  },
  {
   "cell_type": "markdown",
   "metadata": {},
   "source": [
    "Para escribir un programa con una lógica condicional más compleja, puedes agregar instrucciones else y elif al bloque de código. También puedes anidar instrucciones condicionales.\n",
    "\n",
    "if expresion_prueba:\n",
    "    # intrucción(es) a ejecutar\n",
    "    if expresion_prueba:\n",
    "        # intrucción(es) a ejecutar\n",
    "    else: \n",
    "        # intrucción(es) a ejecutar\n",
    "elif expresion_prueba:\n",
    "    # intrucción(es) a ejecutar\n",
    "else:\n",
    "    # intrucción(es) a ejecutar\n",
    "    "
   ]
  },
  {
   "cell_type": "code",
   "execution_count": 3,
   "metadata": {},
   "outputs": [
    {
     "name": "stdout",
     "output_type": "stream",
     "text": [
      "Numero C es mayor a numero B\n",
      "Numero A es menor a numero D\n"
     ]
    }
   ],
   "source": [
    "numberC = 44\n",
    "numberD = 100\n",
    "if numberC >= numberB:\n",
    "    print('Numero C es mayor a numero B')\n",
    "    if numberA <= numberD:\n",
    "        print('Numero A es menor a numero D')\n",
    "    else:\n",
    "        print('Numero A es mayor a numero D')\n",
    "elif numberC >= numberD:\n",
    "    print('Numero C es mayor a numero D')\n",
    "else:\n",
    "    print('Numero D es mayor a numero')  "
   ]
  },
  {
   "cell_type": "markdown",
   "metadata": {},
   "source": [
    "Para este ejercicio, escribirás una lógica condicional que imprima una advertencia si un asteroide se acerca a la Tierra demasiado rápido. La velocidad del asteroide varía dependiendo de lo cerca que esté del sol, y cualquier velocidad superior a 25 kilómetros por segundo (km/s) merece una advertencia.\n",
    "\n",
    "Un asteroide se acerca, y viaja a una velocidad de 49 km/s.\n",
    "\n",
    "-Añadir el código necesario para crear una variable que guarde la velocidad del asteroide.\n",
    "\n",
    "-Escribe una expresión de prueba para calcular si necesita una advertencia.\n",
    "\n",
    "-Agregue las instrucciones que se ejecutarán si la expresión de prueba es true o false."
   ]
  },
  {
   "cell_type": "code",
   "execution_count": 4,
   "metadata": {},
   "outputs": [
    {
     "name": "stdout",
     "output_type": "stream",
     "text": [
      "ADVERTENCIA DE ASTEROIDE!!!\n",
      "Velocidad del asteroide: 49km/s\n"
     ]
    }
   ],
   "source": [
    "velAsteroide = 49\n",
    "\n",
    "if velAsteroide > 25:\n",
    "    print('ADVERTENCIA DE ASTEROIDE!!!')\n",
    "    print('Velocidad del asteroide: ' + str(velAsteroide) + 'km/s')\n",
    "else:\n",
    "    print('Sin advertencia')\n",
    "    print('Velocidad del asteroide: ' + str(velAsteroide) + 'km/s')"
   ]
  },
  {
   "cell_type": "markdown",
   "metadata": {},
   "source": [
    "Si un asteroide entra en la atmósfera de la Tierra a una velocidad mayor o igual a 20 km/s, a veces produce un rayo de luz que se puede ver desde la Tierra. Escribe la lógica condicional que usa declaraciones if, else, y elif para alertar a las personas de todo el mundo que deben buscar un asteroide en el cielo. ¡Hay uno que se dirige a la tierra ahora a una velocidad de 19 km/s!\n",
    "\n",
    "-Agrega el código para crear una variable para un asteroide que viaja a 19 km/s\n",
    "\n",
    "-Escribe varias expresiones de prueba para determinar si puedes ver el rayo de luz desde la tierra\n",
    "\n",
    "-Agrega las instrucciones que se ejecutarán si las expresiones de prueba son True o False"
   ]
  },
  {
   "cell_type": "code",
   "execution_count": 5,
   "metadata": {},
   "outputs": [
    {
     "name": "stdout",
     "output_type": "stream",
     "text": [
      "Se detecto un rayo de luz\n",
      "ALERTA!! buscar asteroide en el cielo\n",
      "¡Hay uno que se dirige a la tierra ahora a una velocidad de 49 km/s!\n"
     ]
    }
   ],
   "source": [
    "velocidadAst = 49\n",
    "\n",
    "if velocidadAst >= 20:\n",
    "    print('Se detecto un rayo de luz')  \n",
    "    print('ALERTA!! buscar asteroide en el cielo')\n",
    "    print('¡Hay uno que se dirige a la tierra ahora a una velocidad de ' + str(velocidadAst) + (' km/s!'))\n",
    "else:\n",
    "    print('Sin alertas')\n",
    "    print('Continua con tu dia!!!')"
   ]
  },
  {
   "cell_type": "markdown",
   "metadata": {},
   "source": [
    "En este ejercicio, aprenderás información más matizada sobre cuándo los asteroides representan un peligro para la Tierra, y utilizarás esa información para mejorar nuestro sistema de advertencia. Aquí está la nueva información que necesitas saber:\n",
    "\n",
    "*Los asteroides de menos de 25 metros en su dimensión más grande probablemente se quemarán a medida que entren en la atmósfera de la Tierra.\n",
    "\n",
    "Si una pieza de un asteroide que es más grande que 25 metros pero más pequeña que 1000 metros golpeara la Tierra, causaría mucho daño.\n",
    "También discutimos en el ejercicio anterior que:\n",
    "\n",
    "La velocidad del asteroide varía en función de lo cerca que esté del sol, y cualquier velocidad superior a 25 kilómetros por segundo (km/s) merece una advertencia.\n",
    "Si un asteroide entra en la atmósfera de la Tierra a una velocidad mayor o igual a 20 km/s, a veces produce un rayo de luz que se puede ver desde la Tierra.\n",
    "Usando toda esta información, escribe un programa que emita la advertencia o información correcta a la gente de la Tierra, según la velocidad y el tamaño de un asteroide. Utiliza instrucciones if, else, y elif, así como los operadores and y or.\n",
    "\n",
    "-Agrega el código para crear nuevas variables para la velocidad y el tamaño del asteroide\n",
    "\n",
    "-Para probar el código, prueba con varias velocidades y tamaños\n",
    "\n",
    "-Escribe varias expresiones de prueba o combinaciones de expresiones de prueba para determinar qué mensaje se debe enviar a Tierra."
   ]
  },
  {
   "cell_type": "code",
   "execution_count": 6,
   "metadata": {},
   "outputs": [
    {
     "name": "stdout",
     "output_type": "stream",
     "text": [
      "Advertencia de asteroide\n"
     ]
    }
   ],
   "source": [
    "velAster = 6\n",
    "tamaAsteroide = 55\n",
    "if velAster > 25 or tamaAsteroide > 25 and tamaAsteroide < 1000:\n",
    "    print('Advertencia de asteroide')\n",
    "elif velAster >= 20:\n",
    "    print('Se detecto rayo de luz en el cielo')\n",
    "elif tamaAsteroide <= 25:\n",
    "    print('Sin amenazas de asteroide!!')\n",
    "else:\n",
    "    print('Sin amenazas!!')"
   ]
  }
 ],
 "metadata": {
  "interpreter": {
   "hash": "b89b5cfaba6639976dc87ff2fec6d58faec662063367e2c229c520fe71072417"
  },
  "kernelspec": {
   "display_name": "Python 3.10.2 64-bit",
   "language": "python",
   "name": "python3"
  },
  "language_info": {
   "codemirror_mode": {
    "name": "ipython",
    "version": 3
   },
   "file_extension": ".py",
   "mimetype": "text/x-python",
   "name": "python",
   "nbconvert_exporter": "python",
   "pygments_lexer": "ipython3",
   "version": "3.10.2"
  },
  "orig_nbformat": 4
 },
 "nbformat": 4,
 "nbformat_minor": 2
}
